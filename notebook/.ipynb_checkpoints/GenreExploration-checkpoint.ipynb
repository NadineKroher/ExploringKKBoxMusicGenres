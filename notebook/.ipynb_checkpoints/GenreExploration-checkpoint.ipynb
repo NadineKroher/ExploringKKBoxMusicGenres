{
 "cells": [
  {
   "cell_type": "markdown",
   "metadata": {},
   "source": [
    "In this kernel, I explore the <b>genres</b> with respect to <b>listener behaviour</b> and co-occurrence. Are there pairs or groups of genres, which are commonly listened to by the same users? We could use this type of user-driven genre similarity as a feature in recommender systems, in particular for cold-start cases. Let's say, people who like <i>alternative rock</i> commonly also like <i>indie</i> - we can recommend <i>indie</i> songs to new users who only listened to a few <i>alternative rock</i> tracks so far. \n",
    "\n",
    "Since we only have the genre-IDs and don't know their \"physical\" meaning, we cannot use any higher-level background info (i.e. from music genre taxonomies). My idea for this kernel is to model genres in a <b>graph</b>. Each genre represents a node, associated with a node score which indicates how often this genre appears in the train set. Edges between nodes represent co-occurrences. The edge weights indicate how often a single user in the train set liked (by means of target = 1) both genres. For example, if the edge weight between <i>alternative rock</i> and <i>indie</i> has weight 500, this means that there are 500 users with at least one song with target = 1 and <i>alternative rock</i> as a genre tag, who also have at least one song with target = 1 and <i>indie</i> tag. \n",
    "\n",
    "I first construct a similarity matrix from the training data, then convert it to a networkx graph and use a 2-D layout to visualise genre similarities and popularities. "
   ]
  },
  {
   "cell_type": "code",
   "execution_count": 93,
   "metadata": {},
   "outputs": [
    {
     "name": "stdout",
     "output_type": "stream",
     "text": [
      "Warning: Cannot change to a different GUI toolkit: notebook. Using osx instead.\n"
     ]
    }
   ],
   "source": [
    "import pandas as pd\n",
    "import numpy as np\n",
    "import networkx as nx\n",
    "import itertools\n",
    "import matplotlib.pyplot as plt # nx won't draw without this\n",
    "%matplotlib notebook \n",
    "# plot interactivity would be great"
   ]
  },
  {
   "cell_type": "code",
   "execution_count": 3,
   "metadata": {
    "collapsed": true
   },
   "outputs": [],
   "source": [
    "dataPath = '../../data/' # set the data path"
   ]
  },
  {
   "cell_type": "code",
   "execution_count": 4,
   "metadata": {
    "collapsed": true
   },
   "outputs": [],
   "source": [
    "# read songs into pandas data frame\n",
    "songs = pd.read_csv(dataPath + 'songs.csv')\n",
    "songs = songs[['song_id','genre_ids']] # we don't need the rest"
   ]
  },
  {
   "cell_type": "markdown",
   "metadata": {},
   "source": [
    "There may be various genre tags per song, separated by a \"|\". So we need to convert them to lists"
   ]
  },
  {
   "cell_type": "code",
   "execution_count": 5,
   "metadata": {
    "collapsed": true
   },
   "outputs": [],
   "source": [
    "# convert genre ids to list\n",
    "songs['genre_ids'] = songs['genre_ids'].map(lambda x: [int(y) for y in str(x).split('|')] if not pd.isnull(x) else [])"
   ]
  },
  {
   "cell_type": "code",
   "execution_count": 6,
   "metadata": {
    "collapsed": true
   },
   "outputs": [],
   "source": [
    "# get unique list of genre ids\n",
    "genres = songs['genre_ids'].values.tolist()\n",
    "genres = [j for i in genres for j in i]\n",
    "genres = list(set(genres))"
   ]
  },
  {
   "cell_type": "code",
   "execution_count": 10,
   "metadata": {},
   "outputs": [
    {
     "name": "stdout",
     "output_type": "stream",
     "text": [
      "There are 191 unique genres.\n"
     ]
    }
   ],
   "source": [
    "# number of unique genres\n",
    "numGenres = len(genres)\n",
    "print(\"There are %s unique genres.\" %numGenres)"
   ]
  },
  {
   "cell_type": "code",
   "execution_count": 11,
   "metadata": {
    "collapsed": true
   },
   "outputs": [],
   "source": [
    "# init genre similarity matrix D and genre score list s\n",
    "S = np.zeros((numGenres,numGenres))\n",
    "scores = np.zeros((numGenres,))"
   ]
  },
  {
   "cell_type": "code",
   "execution_count": 13,
   "metadata": {
    "collapsed": true
   },
   "outputs": [],
   "source": [
    "# read user listening data\n",
    "listen = pd.read_csv(dataPath + 'train.csv')"
   ]
  },
  {
   "cell_type": "code",
   "execution_count": 14,
   "metadata": {
    "collapsed": true
   },
   "outputs": [],
   "source": [
    "# we only consider songs with target 1\n",
    "listen = listen[listen['target'] == 1]\n",
    "listen = listen[['msno','song_id']] # we don't need the rest"
   ]
  },
  {
   "cell_type": "code",
   "execution_count": 16,
   "metadata": {
    "collapsed": true
   },
   "outputs": [],
   "source": [
    "# join the two datasets\n",
    "songs.set_index('song_id', inplace=True)\n",
    "df = listen.join(songs, how=\"left\", on=\"song_id\")\n",
    "df.dropna(axis=0,inplace=True) # drop anything with missing data"
   ]
  },
  {
   "cell_type": "markdown",
   "metadata": {},
   "source": [
    "Now we can construct the genre similarity matrix. For each user, we update genre scores (+1 if this user liked this genre) and the co-occurrence in S for each possible pair of the genres this user liked. This is a bit slow..."
   ]
  },
  {
   "cell_type": "code",
   "execution_count": 18,
   "metadata": {
    "collapsed": true
   },
   "outputs": [],
   "source": [
    "# group by user and process groups\n",
    "for user, frame in df.groupby('msno'):\n",
    "    userGenres = frame['genre_ids'].values.tolist() # get all the genres liked by this user\n",
    "    userGenres = [j for i in userGenres for j in i] # convert to a single list\n",
    "    userGenres = set(list(userGenres)) # take only unique values\n",
    "\n",
    "    for aGenre in userGenres: # increase genre score\n",
    "        m = genres.index(aGenre) \n",
    "        scores[m] += 1\n",
    "\n",
    "    combs = itertools.combinations(userGenres, 2) # increase co-occurrence scores in matrix S\n",
    "    for comb in combs:\n",
    "        S[genres.index(comb[0]),genres.index(comb[1])] += 1\n",
    "        S[genres.index(comb[1]),genres.index(comb[0])] += 1"
   ]
  },
  {
   "cell_type": "markdown",
   "metadata": {},
   "source": [
    "Now, we create the graph using networkx"
   ]
  },
  {
   "cell_type": "code",
   "execution_count": 49,
   "metadata": {
    "collapsed": true
   },
   "outputs": [],
   "source": [
    "G = nx.Graph()"
   ]
  },
  {
   "cell_type": "code",
   "execution_count": 50,
   "metadata": {
    "collapsed": true
   },
   "outputs": [],
   "source": [
    "for g in genres: # add nodes\n",
    "    G.add_node(g)"
   ]
  },
  {
   "cell_type": "code",
   "execution_count": 51,
   "metadata": {
    "collapsed": true
   },
   "outputs": [],
   "source": [
    "for i,gI in enumerate(genres): # add edges\n",
    "    for j,gJ in enumerate(genres):\n",
    "        if gJ >= gI:\n",
    "            continue\n",
    "        if S[i][j] > 0:\n",
    "            G.add_edge(gI,gJ,weight=S[i][j])"
   ]
  },
  {
   "cell_type": "markdown",
   "metadata": {},
   "source": [
    "There seem to be a lot of nodes, which have a score that is very low or zero (only the label appears, no red circle) and are not connected to any other nodes. These are genres which do not or very infrequently appear in the training data with target = 1. So let's remove all nodes with score < 1000 and see if the graph looks better if we only consider very \"popular\" genres..."
   ]
  },
  {
   "cell_type": "code",
   "execution_count": 95,
   "metadata": {
    "collapsed": true
   },
   "outputs": [],
   "source": [
    "# filter out nodes with score < 1000\n",
    "nodeList = [x for i,x in enumerate(genres) if scores[i] > 1000]\n",
    "G2 = G.subgraph(nodeList)\n",
    "nodeSizes = [0.1 * x for x in scores if x > 1000]"
   ]
  },
  {
   "cell_type": "markdown",
   "metadata": {},
   "source": [
    "We can now draw the graph using a spectral layout (I found this is one works best). Nodes connected by strong edges should appear close to each other and weakly connected nodes should be isolated."
   ]
  },
  {
   "cell_type": "code",
   "execution_count": 98,
   "metadata": {},
   "outputs": [
    {
     "name": "stderr",
     "output_type": "stream",
     "text": [
      "/anaconda/lib/python3.6/site-packages/networkx/drawing/nx_pylab.py:126: MatplotlibDeprecationWarning: pyplot.hold is deprecated.\n",
      "    Future behavior will be consistent with the long-time default:\n",
      "    plot commands add elements without first clearing the\n",
      "    Axes and/or Figure.\n",
      "  b = plt.ishold()\n",
      "/anaconda/lib/python3.6/site-packages/networkx/drawing/nx_pylab.py:138: MatplotlibDeprecationWarning: pyplot.hold is deprecated.\n",
      "    Future behavior will be consistent with the long-time default:\n",
      "    plot commands add elements without first clearing the\n",
      "    Axes and/or Figure.\n",
      "  plt.hold(b)\n",
      "/anaconda/lib/python3.6/site-packages/matplotlib/__init__.py:917: UserWarning: axes.hold is deprecated. Please remove it from your matplotlibrc and/or style files.\n",
      "  warnings.warn(self.msg_depr_set % key)\n",
      "/anaconda/lib/python3.6/site-packages/matplotlib/rcsetup.py:152: UserWarning: axes.hold is deprecated, will be removed in 3.0\n",
      "  warnings.warn(\"axes.hold is deprecated, will be removed in 3.0\")\n"
     ]
    }
   ],
   "source": [
    "nx.draw_spectral(G2, with_labels=True, node_size=nodeSizes, alpha=0.2, width=0.1, random_state=1985) # draw the new graph\n",
    "plt.show() # there are some warnings that seem to come from nx interacting with matplotlib"
   ]
  },
  {
   "cell_type": "markdown",
   "metadata": {},
   "source": [
    "We can see a bunch of things (you will need to zoom around a bit):\n",
    "*  genre-Ids 2107, 423 and 798 are very disconnected - meaning users listening to them don't tend to listen to other genres\n",
    "* 465 and 458 are two very popular genres which also co-appear a lot (I bet these are \"rock\" and \"pop\") and are very connected to other genres\n",
    "* 451 is related to them but a bit less \"popular\" (is it a coincidence that they start with a 4?)\n",
    "* some more rather \"disconnected\" genres are 1180, 1572, 275, 1287 and 726\n",
    "* inside the strongly connected area, there seem to be some subgroups, i.e. 451+465+458, 2022+1259, 444+437+1609+139 etc..."
   ]
  },
  {
   "cell_type": "markdown",
   "metadata": {},
   "source": [
    "It would be interesting to see if this info helps in a recommendation system for the cold-start cases."
   ]
  },
  {
   "cell_type": "code",
   "execution_count": null,
   "metadata": {
    "collapsed": true
   },
   "outputs": [],
   "source": []
  }
 ],
 "metadata": {
  "kernelspec": {
   "display_name": "Python 3",
   "language": "python",
   "name": "python3"
  },
  "language_info": {
   "codemirror_mode": {
    "name": "ipython",
    "version": 3
   },
   "file_extension": ".py",
   "mimetype": "text/x-python",
   "name": "python",
   "nbconvert_exporter": "python",
   "pygments_lexer": "ipython3",
   "version": "3.6.1"
  }
 },
 "nbformat": 4,
 "nbformat_minor": 2
}
